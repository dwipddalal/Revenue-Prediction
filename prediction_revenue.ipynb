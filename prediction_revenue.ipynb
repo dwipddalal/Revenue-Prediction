{
  "nbformat": 4,
  "nbformat_minor": 0,
  "metadata": {
    "colab": {
      "name": "prediction_revenue.ipynb",
      "provenance": [],
      "collapsed_sections": []
    },
    "kernelspec": {
      "name": "python3",
      "display_name": "Python 3"
    },
    "language_info": {
      "name": "python"
    }
  },
  "cells": [
    {
      "cell_type": "markdown",
      "source": [
        "# Importing Libraries"
      ],
      "metadata": {
        "id": "gdLGxrHFMKpN"
      }
    },
    {
      "cell_type": "code",
      "source": [
        "import pandas as pd\n",
        "import io\n",
        "import numpy as np\n",
        "from sklearn.metrics import mean_squared_error\n",
        "from sklearn import preprocessing\n",
        "from sklearn.model_selection import train_test_split\n",
        "from sklearn.linear_model import LinearRegression\n",
        "from sklearn.neighbors import KNeighborsRegressor\n",
        "from sklearn.linear_model import SGDRegressor\n",
        "from sklearn.pipeline import make_pipeline\n",
        "from sklearn.preprocessing import StandardScaler\n",
        "from sklearn.ensemble import RandomForestRegressor\n",
        "from xgboost import XGBRegressor\n",
        "\n",
        "from sklearn.neural_network import MLPRegressor\n",
        "from sklearn.ensemble import VotingRegressor"
      ],
      "metadata": {
        "id": "k_A5sLMdvcFD"
      },
      "execution_count": 1,
      "outputs": []
    },
    {
      "cell_type": "markdown",
      "source": [
        "## Loading Dataset"
      ],
      "metadata": {
        "id": "9EJscb7HMRSf"
      }
    },
    {
      "cell_type": "code",
      "metadata": {
        "colab": {
          "base_uri": "https://localhost:8080/",
          "height": 206
        },
        "id": "O9dMJQMOfwOw",
        "outputId": "e66ee2e1-f761-47bd-aedc-58b6b9245d9e"
      },
      "source": [
        "df = pd.read_csv('https://raw.githubusercontent.com/dwipddalal/Revenue-Prediction/main/Data.csv')\n",
        "df.head()"
      ],
      "execution_count": 2,
      "outputs": [
        {
          "output_type": "execute_result",
          "data": {
            "text/plain": [
              "         date    campaign    adgroup    ad  impressions  clicks  cost  \\\n",
              "0  01-08-2020  campaign 1  adgroup 1  ad 1           24       6  0.08   \n",
              "1  01-08-2020  campaign 1  adgroup 2  ad 1            1       0  0.00   \n",
              "2  01-08-2020  campaign 1  adgroup 3  ad 1           13       4  0.04   \n",
              "3  01-08-2020  campaign 1  adgroup 4  ad 1            5       4  0.08   \n",
              "4  01-08-2020  campaign 1  adgroup 1  ad 2          247     126  1.29   \n",
              "\n",
              "   conversions  revenue  \n",
              "0            0     0.00  \n",
              "1            0     0.00  \n",
              "2            0     0.00  \n",
              "3            0     0.00  \n",
              "4            4   925.71  "
            ],
            "text/html": [
              "\n",
              "  <div id=\"df-f185fad5-e2c2-42ad-9cf1-30d1af649fed\">\n",
              "    <div class=\"colab-df-container\">\n",
              "      <div>\n",
              "<style scoped>\n",
              "    .dataframe tbody tr th:only-of-type {\n",
              "        vertical-align: middle;\n",
              "    }\n",
              "\n",
              "    .dataframe tbody tr th {\n",
              "        vertical-align: top;\n",
              "    }\n",
              "\n",
              "    .dataframe thead th {\n",
              "        text-align: right;\n",
              "    }\n",
              "</style>\n",
              "<table border=\"1\" class=\"dataframe\">\n",
              "  <thead>\n",
              "    <tr style=\"text-align: right;\">\n",
              "      <th></th>\n",
              "      <th>date</th>\n",
              "      <th>campaign</th>\n",
              "      <th>adgroup</th>\n",
              "      <th>ad</th>\n",
              "      <th>impressions</th>\n",
              "      <th>clicks</th>\n",
              "      <th>cost</th>\n",
              "      <th>conversions</th>\n",
              "      <th>revenue</th>\n",
              "    </tr>\n",
              "  </thead>\n",
              "  <tbody>\n",
              "    <tr>\n",
              "      <th>0</th>\n",
              "      <td>01-08-2020</td>\n",
              "      <td>campaign 1</td>\n",
              "      <td>adgroup 1</td>\n",
              "      <td>ad 1</td>\n",
              "      <td>24</td>\n",
              "      <td>6</td>\n",
              "      <td>0.08</td>\n",
              "      <td>0</td>\n",
              "      <td>0.00</td>\n",
              "    </tr>\n",
              "    <tr>\n",
              "      <th>1</th>\n",
              "      <td>01-08-2020</td>\n",
              "      <td>campaign 1</td>\n",
              "      <td>adgroup 2</td>\n",
              "      <td>ad 1</td>\n",
              "      <td>1</td>\n",
              "      <td>0</td>\n",
              "      <td>0.00</td>\n",
              "      <td>0</td>\n",
              "      <td>0.00</td>\n",
              "    </tr>\n",
              "    <tr>\n",
              "      <th>2</th>\n",
              "      <td>01-08-2020</td>\n",
              "      <td>campaign 1</td>\n",
              "      <td>adgroup 3</td>\n",
              "      <td>ad 1</td>\n",
              "      <td>13</td>\n",
              "      <td>4</td>\n",
              "      <td>0.04</td>\n",
              "      <td>0</td>\n",
              "      <td>0.00</td>\n",
              "    </tr>\n",
              "    <tr>\n",
              "      <th>3</th>\n",
              "      <td>01-08-2020</td>\n",
              "      <td>campaign 1</td>\n",
              "      <td>adgroup 4</td>\n",
              "      <td>ad 1</td>\n",
              "      <td>5</td>\n",
              "      <td>4</td>\n",
              "      <td>0.08</td>\n",
              "      <td>0</td>\n",
              "      <td>0.00</td>\n",
              "    </tr>\n",
              "    <tr>\n",
              "      <th>4</th>\n",
              "      <td>01-08-2020</td>\n",
              "      <td>campaign 1</td>\n",
              "      <td>adgroup 1</td>\n",
              "      <td>ad 2</td>\n",
              "      <td>247</td>\n",
              "      <td>126</td>\n",
              "      <td>1.29</td>\n",
              "      <td>4</td>\n",
              "      <td>925.71</td>\n",
              "    </tr>\n",
              "  </tbody>\n",
              "</table>\n",
              "</div>\n",
              "      <button class=\"colab-df-convert\" onclick=\"convertToInteractive('df-f185fad5-e2c2-42ad-9cf1-30d1af649fed')\"\n",
              "              title=\"Convert this dataframe to an interactive table.\"\n",
              "              style=\"display:none;\">\n",
              "        \n",
              "  <svg xmlns=\"http://www.w3.org/2000/svg\" height=\"24px\"viewBox=\"0 0 24 24\"\n",
              "       width=\"24px\">\n",
              "    <path d=\"M0 0h24v24H0V0z\" fill=\"none\"/>\n",
              "    <path d=\"M18.56 5.44l.94 2.06.94-2.06 2.06-.94-2.06-.94-.94-2.06-.94 2.06-2.06.94zm-11 1L8.5 8.5l.94-2.06 2.06-.94-2.06-.94L8.5 2.5l-.94 2.06-2.06.94zm10 10l.94 2.06.94-2.06 2.06-.94-2.06-.94-.94-2.06-.94 2.06-2.06.94z\"/><path d=\"M17.41 7.96l-1.37-1.37c-.4-.4-.92-.59-1.43-.59-.52 0-1.04.2-1.43.59L10.3 9.45l-7.72 7.72c-.78.78-.78 2.05 0 2.83L4 21.41c.39.39.9.59 1.41.59.51 0 1.02-.2 1.41-.59l7.78-7.78 2.81-2.81c.8-.78.8-2.07 0-2.86zM5.41 20L4 18.59l7.72-7.72 1.47 1.35L5.41 20z\"/>\n",
              "  </svg>\n",
              "      </button>\n",
              "      \n",
              "  <style>\n",
              "    .colab-df-container {\n",
              "      display:flex;\n",
              "      flex-wrap:wrap;\n",
              "      gap: 12px;\n",
              "    }\n",
              "\n",
              "    .colab-df-convert {\n",
              "      background-color: #E8F0FE;\n",
              "      border: none;\n",
              "      border-radius: 50%;\n",
              "      cursor: pointer;\n",
              "      display: none;\n",
              "      fill: #1967D2;\n",
              "      height: 32px;\n",
              "      padding: 0 0 0 0;\n",
              "      width: 32px;\n",
              "    }\n",
              "\n",
              "    .colab-df-convert:hover {\n",
              "      background-color: #E2EBFA;\n",
              "      box-shadow: 0px 1px 2px rgba(60, 64, 67, 0.3), 0px 1px 3px 1px rgba(60, 64, 67, 0.15);\n",
              "      fill: #174EA6;\n",
              "    }\n",
              "\n",
              "    [theme=dark] .colab-df-convert {\n",
              "      background-color: #3B4455;\n",
              "      fill: #D2E3FC;\n",
              "    }\n",
              "\n",
              "    [theme=dark] .colab-df-convert:hover {\n",
              "      background-color: #434B5C;\n",
              "      box-shadow: 0px 1px 3px 1px rgba(0, 0, 0, 0.15);\n",
              "      filter: drop-shadow(0px 1px 2px rgba(0, 0, 0, 0.3));\n",
              "      fill: #FFFFFF;\n",
              "    }\n",
              "  </style>\n",
              "\n",
              "      <script>\n",
              "        const buttonEl =\n",
              "          document.querySelector('#df-f185fad5-e2c2-42ad-9cf1-30d1af649fed button.colab-df-convert');\n",
              "        buttonEl.style.display =\n",
              "          google.colab.kernel.accessAllowed ? 'block' : 'none';\n",
              "\n",
              "        async function convertToInteractive(key) {\n",
              "          const element = document.querySelector('#df-f185fad5-e2c2-42ad-9cf1-30d1af649fed');\n",
              "          const dataTable =\n",
              "            await google.colab.kernel.invokeFunction('convertToInteractive',\n",
              "                                                     [key], {});\n",
              "          if (!dataTable) return;\n",
              "\n",
              "          const docLinkHtml = 'Like what you see? Visit the ' +\n",
              "            '<a target=\"_blank\" href=https://colab.research.google.com/notebooks/data_table.ipynb>data table notebook</a>'\n",
              "            + ' to learn more about interactive tables.';\n",
              "          element.innerHTML = '';\n",
              "          dataTable['output_type'] = 'display_data';\n",
              "          await google.colab.output.renderOutput(dataTable, element);\n",
              "          const docLink = document.createElement('div');\n",
              "          docLink.innerHTML = docLinkHtml;\n",
              "          element.appendChild(docLink);\n",
              "        }\n",
              "      </script>\n",
              "    </div>\n",
              "  </div>\n",
              "  "
            ]
          },
          "metadata": {},
          "execution_count": 2
        }
      ]
    },
    {
      "cell_type": "code",
      "metadata": {
        "colab": {
          "base_uri": "https://localhost:8080/"
        },
        "id": "-BDaz8Dgfw06",
        "outputId": "32458ec5-d64a-4879-fb41-cbaf3a54213b"
      },
      "source": [
        "df.isnull().sum()"
      ],
      "execution_count": 3,
      "outputs": [
        {
          "output_type": "execute_result",
          "data": {
            "text/plain": [
              "date           0\n",
              "campaign       0\n",
              "adgroup        0\n",
              "ad             0\n",
              "impressions    0\n",
              "clicks         0\n",
              "cost           0\n",
              "conversions    0\n",
              "revenue        0\n",
              "dtype: int64"
            ]
          },
          "metadata": {},
          "execution_count": 3
        }
      ]
    },
    {
      "cell_type": "code",
      "metadata": {
        "colab": {
          "base_uri": "https://localhost:8080/",
          "height": 423
        },
        "id": "vkNkydsCf0S4",
        "outputId": "e4a4cddb-36e6-48bf-8bb8-3b02b07c6e48"
      },
      "source": [
        "data = df.drop(columns= ['date', 'campaign'])\n",
        "data"
      ],
      "execution_count": 4,
      "outputs": [
        {
          "output_type": "execute_result",
          "data": {
            "text/plain": [
              "        adgroup     ad  impressions  clicks  cost  conversions  revenue\n",
              "0     adgroup 1   ad 1           24       6  0.08            0     0.00\n",
              "1     adgroup 2   ad 1            1       0  0.00            0     0.00\n",
              "2     adgroup 3   ad 1           13       4  0.04            0     0.00\n",
              "3     adgroup 4   ad 1            5       4  0.08            0     0.00\n",
              "4     adgroup 1   ad 2          247     126  1.29            4   925.71\n",
              "...         ...    ...          ...     ...   ...          ...      ...\n",
              "4566  adgroup 3  ad 55           19       6  0.07            0     0.00\n",
              "4567  adgroup 4  ad 55            1       0  0.00            0     0.00\n",
              "4568  adgroup 3  ad 56           16       8  0.12            1    93.20\n",
              "4569  adgroup 1  ad 56           37      13  0.23            0     0.00\n",
              "4570  adgroup 1  ad 55           19      10  0.14            0     0.00\n",
              "\n",
              "[4571 rows x 7 columns]"
            ],
            "text/html": [
              "\n",
              "  <div id=\"df-dde71594-57e1-4f6c-b6ec-5e7a035606d1\">\n",
              "    <div class=\"colab-df-container\">\n",
              "      <div>\n",
              "<style scoped>\n",
              "    .dataframe tbody tr th:only-of-type {\n",
              "        vertical-align: middle;\n",
              "    }\n",
              "\n",
              "    .dataframe tbody tr th {\n",
              "        vertical-align: top;\n",
              "    }\n",
              "\n",
              "    .dataframe thead th {\n",
              "        text-align: right;\n",
              "    }\n",
              "</style>\n",
              "<table border=\"1\" class=\"dataframe\">\n",
              "  <thead>\n",
              "    <tr style=\"text-align: right;\">\n",
              "      <th></th>\n",
              "      <th>adgroup</th>\n",
              "      <th>ad</th>\n",
              "      <th>impressions</th>\n",
              "      <th>clicks</th>\n",
              "      <th>cost</th>\n",
              "      <th>conversions</th>\n",
              "      <th>revenue</th>\n",
              "    </tr>\n",
              "  </thead>\n",
              "  <tbody>\n",
              "    <tr>\n",
              "      <th>0</th>\n",
              "      <td>adgroup 1</td>\n",
              "      <td>ad 1</td>\n",
              "      <td>24</td>\n",
              "      <td>6</td>\n",
              "      <td>0.08</td>\n",
              "      <td>0</td>\n",
              "      <td>0.00</td>\n",
              "    </tr>\n",
              "    <tr>\n",
              "      <th>1</th>\n",
              "      <td>adgroup 2</td>\n",
              "      <td>ad 1</td>\n",
              "      <td>1</td>\n",
              "      <td>0</td>\n",
              "      <td>0.00</td>\n",
              "      <td>0</td>\n",
              "      <td>0.00</td>\n",
              "    </tr>\n",
              "    <tr>\n",
              "      <th>2</th>\n",
              "      <td>adgroup 3</td>\n",
              "      <td>ad 1</td>\n",
              "      <td>13</td>\n",
              "      <td>4</td>\n",
              "      <td>0.04</td>\n",
              "      <td>0</td>\n",
              "      <td>0.00</td>\n",
              "    </tr>\n",
              "    <tr>\n",
              "      <th>3</th>\n",
              "      <td>adgroup 4</td>\n",
              "      <td>ad 1</td>\n",
              "      <td>5</td>\n",
              "      <td>4</td>\n",
              "      <td>0.08</td>\n",
              "      <td>0</td>\n",
              "      <td>0.00</td>\n",
              "    </tr>\n",
              "    <tr>\n",
              "      <th>4</th>\n",
              "      <td>adgroup 1</td>\n",
              "      <td>ad 2</td>\n",
              "      <td>247</td>\n",
              "      <td>126</td>\n",
              "      <td>1.29</td>\n",
              "      <td>4</td>\n",
              "      <td>925.71</td>\n",
              "    </tr>\n",
              "    <tr>\n",
              "      <th>...</th>\n",
              "      <td>...</td>\n",
              "      <td>...</td>\n",
              "      <td>...</td>\n",
              "      <td>...</td>\n",
              "      <td>...</td>\n",
              "      <td>...</td>\n",
              "      <td>...</td>\n",
              "    </tr>\n",
              "    <tr>\n",
              "      <th>4566</th>\n",
              "      <td>adgroup 3</td>\n",
              "      <td>ad 55</td>\n",
              "      <td>19</td>\n",
              "      <td>6</td>\n",
              "      <td>0.07</td>\n",
              "      <td>0</td>\n",
              "      <td>0.00</td>\n",
              "    </tr>\n",
              "    <tr>\n",
              "      <th>4567</th>\n",
              "      <td>adgroup 4</td>\n",
              "      <td>ad 55</td>\n",
              "      <td>1</td>\n",
              "      <td>0</td>\n",
              "      <td>0.00</td>\n",
              "      <td>0</td>\n",
              "      <td>0.00</td>\n",
              "    </tr>\n",
              "    <tr>\n",
              "      <th>4568</th>\n",
              "      <td>adgroup 3</td>\n",
              "      <td>ad 56</td>\n",
              "      <td>16</td>\n",
              "      <td>8</td>\n",
              "      <td>0.12</td>\n",
              "      <td>1</td>\n",
              "      <td>93.20</td>\n",
              "    </tr>\n",
              "    <tr>\n",
              "      <th>4569</th>\n",
              "      <td>adgroup 1</td>\n",
              "      <td>ad 56</td>\n",
              "      <td>37</td>\n",
              "      <td>13</td>\n",
              "      <td>0.23</td>\n",
              "      <td>0</td>\n",
              "      <td>0.00</td>\n",
              "    </tr>\n",
              "    <tr>\n",
              "      <th>4570</th>\n",
              "      <td>adgroup 1</td>\n",
              "      <td>ad 55</td>\n",
              "      <td>19</td>\n",
              "      <td>10</td>\n",
              "      <td>0.14</td>\n",
              "      <td>0</td>\n",
              "      <td>0.00</td>\n",
              "    </tr>\n",
              "  </tbody>\n",
              "</table>\n",
              "<p>4571 rows × 7 columns</p>\n",
              "</div>\n",
              "      <button class=\"colab-df-convert\" onclick=\"convertToInteractive('df-dde71594-57e1-4f6c-b6ec-5e7a035606d1')\"\n",
              "              title=\"Convert this dataframe to an interactive table.\"\n",
              "              style=\"display:none;\">\n",
              "        \n",
              "  <svg xmlns=\"http://www.w3.org/2000/svg\" height=\"24px\"viewBox=\"0 0 24 24\"\n",
              "       width=\"24px\">\n",
              "    <path d=\"M0 0h24v24H0V0z\" fill=\"none\"/>\n",
              "    <path d=\"M18.56 5.44l.94 2.06.94-2.06 2.06-.94-2.06-.94-.94-2.06-.94 2.06-2.06.94zm-11 1L8.5 8.5l.94-2.06 2.06-.94-2.06-.94L8.5 2.5l-.94 2.06-2.06.94zm10 10l.94 2.06.94-2.06 2.06-.94-2.06-.94-.94-2.06-.94 2.06-2.06.94z\"/><path d=\"M17.41 7.96l-1.37-1.37c-.4-.4-.92-.59-1.43-.59-.52 0-1.04.2-1.43.59L10.3 9.45l-7.72 7.72c-.78.78-.78 2.05 0 2.83L4 21.41c.39.39.9.59 1.41.59.51 0 1.02-.2 1.41-.59l7.78-7.78 2.81-2.81c.8-.78.8-2.07 0-2.86zM5.41 20L4 18.59l7.72-7.72 1.47 1.35L5.41 20z\"/>\n",
              "  </svg>\n",
              "      </button>\n",
              "      \n",
              "  <style>\n",
              "    .colab-df-container {\n",
              "      display:flex;\n",
              "      flex-wrap:wrap;\n",
              "      gap: 12px;\n",
              "    }\n",
              "\n",
              "    .colab-df-convert {\n",
              "      background-color: #E8F0FE;\n",
              "      border: none;\n",
              "      border-radius: 50%;\n",
              "      cursor: pointer;\n",
              "      display: none;\n",
              "      fill: #1967D2;\n",
              "      height: 32px;\n",
              "      padding: 0 0 0 0;\n",
              "      width: 32px;\n",
              "    }\n",
              "\n",
              "    .colab-df-convert:hover {\n",
              "      background-color: #E2EBFA;\n",
              "      box-shadow: 0px 1px 2px rgba(60, 64, 67, 0.3), 0px 1px 3px 1px rgba(60, 64, 67, 0.15);\n",
              "      fill: #174EA6;\n",
              "    }\n",
              "\n",
              "    [theme=dark] .colab-df-convert {\n",
              "      background-color: #3B4455;\n",
              "      fill: #D2E3FC;\n",
              "    }\n",
              "\n",
              "    [theme=dark] .colab-df-convert:hover {\n",
              "      background-color: #434B5C;\n",
              "      box-shadow: 0px 1px 3px 1px rgba(0, 0, 0, 0.15);\n",
              "      filter: drop-shadow(0px 1px 2px rgba(0, 0, 0, 0.3));\n",
              "      fill: #FFFFFF;\n",
              "    }\n",
              "  </style>\n",
              "\n",
              "      <script>\n",
              "        const buttonEl =\n",
              "          document.querySelector('#df-dde71594-57e1-4f6c-b6ec-5e7a035606d1 button.colab-df-convert');\n",
              "        buttonEl.style.display =\n",
              "          google.colab.kernel.accessAllowed ? 'block' : 'none';\n",
              "\n",
              "        async function convertToInteractive(key) {\n",
              "          const element = document.querySelector('#df-dde71594-57e1-4f6c-b6ec-5e7a035606d1');\n",
              "          const dataTable =\n",
              "            await google.colab.kernel.invokeFunction('convertToInteractive',\n",
              "                                                     [key], {});\n",
              "          if (!dataTable) return;\n",
              "\n",
              "          const docLinkHtml = 'Like what you see? Visit the ' +\n",
              "            '<a target=\"_blank\" href=https://colab.research.google.com/notebooks/data_table.ipynb>data table notebook</a>'\n",
              "            + ' to learn more about interactive tables.';\n",
              "          element.innerHTML = '';\n",
              "          dataTable['output_type'] = 'display_data';\n",
              "          await google.colab.output.renderOutput(dataTable, element);\n",
              "          const docLink = document.createElement('div');\n",
              "          docLink.innerHTML = docLinkHtml;\n",
              "          element.appendChild(docLink);\n",
              "        }\n",
              "      </script>\n",
              "    </div>\n",
              "  </div>\n",
              "  "
            ]
          },
          "metadata": {},
          "execution_count": 4
        }
      ]
    },
    {
      "cell_type": "markdown",
      "source": [
        "## Categorical Encoding"
      ],
      "metadata": {
        "id": "oardP9wyMWBx"
      }
    },
    {
      "cell_type": "code",
      "metadata": {
        "id": "r48U7cUaf6e0"
      },
      "source": [
        "le = preprocessing.LabelEncoder()\n",
        "le.fit(list(df['adgroup']))\n",
        "adgrp = le.transform(list(df['adgroup']))\n",
        "le.fit(df['ad'])\n",
        "ads = le.transform(list(df['ad']))\n",
        "data.drop(columns=['adgroup','ad'] , inplace= True)\n"
      ],
      "execution_count": 5,
      "outputs": []
    },
    {
      "cell_type": "code",
      "source": [
        "data.insert(1, 'adgroup', adgrp)\n",
        "data.insert(0, 'ad', ads)"
      ],
      "metadata": {
        "id": "6ml7102vM1cL"
      },
      "execution_count": 6,
      "outputs": []
    },
    {
      "cell_type": "code",
      "metadata": {
        "colab": {
          "base_uri": "https://localhost:8080/",
          "height": 423
        },
        "id": "cudSTPfTgvGv",
        "outputId": "04aa26d0-b454-45c7-c861-24894b7b4146"
      },
      "source": [
        "data"
      ],
      "execution_count": 7,
      "outputs": [
        {
          "output_type": "execute_result",
          "data": {
            "text/plain": [
              "      ad  impressions  adgroup  clicks  cost  conversions  revenue\n",
              "0      0           24        0       6  0.08            0     0.00\n",
              "1      0            1        1       0  0.00            0     0.00\n",
              "2      0           13        2       4  0.04            0     0.00\n",
              "3      0            5        3       4  0.08            0     0.00\n",
              "4     11          247        0     126  1.29            4   925.71\n",
              "...   ..          ...      ...     ...   ...          ...      ...\n",
              "4566  50           19        2       6  0.07            0     0.00\n",
              "4567  50            1        3       0  0.00            0     0.00\n",
              "4568  51           16        2       8  0.12            1    93.20\n",
              "4569  51           37        0      13  0.23            0     0.00\n",
              "4570  50           19        0      10  0.14            0     0.00\n",
              "\n",
              "[4571 rows x 7 columns]"
            ],
            "text/html": [
              "\n",
              "  <div id=\"df-71d0c914-bc88-44dc-a14d-77f22111c74e\">\n",
              "    <div class=\"colab-df-container\">\n",
              "      <div>\n",
              "<style scoped>\n",
              "    .dataframe tbody tr th:only-of-type {\n",
              "        vertical-align: middle;\n",
              "    }\n",
              "\n",
              "    .dataframe tbody tr th {\n",
              "        vertical-align: top;\n",
              "    }\n",
              "\n",
              "    .dataframe thead th {\n",
              "        text-align: right;\n",
              "    }\n",
              "</style>\n",
              "<table border=\"1\" class=\"dataframe\">\n",
              "  <thead>\n",
              "    <tr style=\"text-align: right;\">\n",
              "      <th></th>\n",
              "      <th>ad</th>\n",
              "      <th>impressions</th>\n",
              "      <th>adgroup</th>\n",
              "      <th>clicks</th>\n",
              "      <th>cost</th>\n",
              "      <th>conversions</th>\n",
              "      <th>revenue</th>\n",
              "    </tr>\n",
              "  </thead>\n",
              "  <tbody>\n",
              "    <tr>\n",
              "      <th>0</th>\n",
              "      <td>0</td>\n",
              "      <td>24</td>\n",
              "      <td>0</td>\n",
              "      <td>6</td>\n",
              "      <td>0.08</td>\n",
              "      <td>0</td>\n",
              "      <td>0.00</td>\n",
              "    </tr>\n",
              "    <tr>\n",
              "      <th>1</th>\n",
              "      <td>0</td>\n",
              "      <td>1</td>\n",
              "      <td>1</td>\n",
              "      <td>0</td>\n",
              "      <td>0.00</td>\n",
              "      <td>0</td>\n",
              "      <td>0.00</td>\n",
              "    </tr>\n",
              "    <tr>\n",
              "      <th>2</th>\n",
              "      <td>0</td>\n",
              "      <td>13</td>\n",
              "      <td>2</td>\n",
              "      <td>4</td>\n",
              "      <td>0.04</td>\n",
              "      <td>0</td>\n",
              "      <td>0.00</td>\n",
              "    </tr>\n",
              "    <tr>\n",
              "      <th>3</th>\n",
              "      <td>0</td>\n",
              "      <td>5</td>\n",
              "      <td>3</td>\n",
              "      <td>4</td>\n",
              "      <td>0.08</td>\n",
              "      <td>0</td>\n",
              "      <td>0.00</td>\n",
              "    </tr>\n",
              "    <tr>\n",
              "      <th>4</th>\n",
              "      <td>11</td>\n",
              "      <td>247</td>\n",
              "      <td>0</td>\n",
              "      <td>126</td>\n",
              "      <td>1.29</td>\n",
              "      <td>4</td>\n",
              "      <td>925.71</td>\n",
              "    </tr>\n",
              "    <tr>\n",
              "      <th>...</th>\n",
              "      <td>...</td>\n",
              "      <td>...</td>\n",
              "      <td>...</td>\n",
              "      <td>...</td>\n",
              "      <td>...</td>\n",
              "      <td>...</td>\n",
              "      <td>...</td>\n",
              "    </tr>\n",
              "    <tr>\n",
              "      <th>4566</th>\n",
              "      <td>50</td>\n",
              "      <td>19</td>\n",
              "      <td>2</td>\n",
              "      <td>6</td>\n",
              "      <td>0.07</td>\n",
              "      <td>0</td>\n",
              "      <td>0.00</td>\n",
              "    </tr>\n",
              "    <tr>\n",
              "      <th>4567</th>\n",
              "      <td>50</td>\n",
              "      <td>1</td>\n",
              "      <td>3</td>\n",
              "      <td>0</td>\n",
              "      <td>0.00</td>\n",
              "      <td>0</td>\n",
              "      <td>0.00</td>\n",
              "    </tr>\n",
              "    <tr>\n",
              "      <th>4568</th>\n",
              "      <td>51</td>\n",
              "      <td>16</td>\n",
              "      <td>2</td>\n",
              "      <td>8</td>\n",
              "      <td>0.12</td>\n",
              "      <td>1</td>\n",
              "      <td>93.20</td>\n",
              "    </tr>\n",
              "    <tr>\n",
              "      <th>4569</th>\n",
              "      <td>51</td>\n",
              "      <td>37</td>\n",
              "      <td>0</td>\n",
              "      <td>13</td>\n",
              "      <td>0.23</td>\n",
              "      <td>0</td>\n",
              "      <td>0.00</td>\n",
              "    </tr>\n",
              "    <tr>\n",
              "      <th>4570</th>\n",
              "      <td>50</td>\n",
              "      <td>19</td>\n",
              "      <td>0</td>\n",
              "      <td>10</td>\n",
              "      <td>0.14</td>\n",
              "      <td>0</td>\n",
              "      <td>0.00</td>\n",
              "    </tr>\n",
              "  </tbody>\n",
              "</table>\n",
              "<p>4571 rows × 7 columns</p>\n",
              "</div>\n",
              "      <button class=\"colab-df-convert\" onclick=\"convertToInteractive('df-71d0c914-bc88-44dc-a14d-77f22111c74e')\"\n",
              "              title=\"Convert this dataframe to an interactive table.\"\n",
              "              style=\"display:none;\">\n",
              "        \n",
              "  <svg xmlns=\"http://www.w3.org/2000/svg\" height=\"24px\"viewBox=\"0 0 24 24\"\n",
              "       width=\"24px\">\n",
              "    <path d=\"M0 0h24v24H0V0z\" fill=\"none\"/>\n",
              "    <path d=\"M18.56 5.44l.94 2.06.94-2.06 2.06-.94-2.06-.94-.94-2.06-.94 2.06-2.06.94zm-11 1L8.5 8.5l.94-2.06 2.06-.94-2.06-.94L8.5 2.5l-.94 2.06-2.06.94zm10 10l.94 2.06.94-2.06 2.06-.94-2.06-.94-.94-2.06-.94 2.06-2.06.94z\"/><path d=\"M17.41 7.96l-1.37-1.37c-.4-.4-.92-.59-1.43-.59-.52 0-1.04.2-1.43.59L10.3 9.45l-7.72 7.72c-.78.78-.78 2.05 0 2.83L4 21.41c.39.39.9.59 1.41.59.51 0 1.02-.2 1.41-.59l7.78-7.78 2.81-2.81c.8-.78.8-2.07 0-2.86zM5.41 20L4 18.59l7.72-7.72 1.47 1.35L5.41 20z\"/>\n",
              "  </svg>\n",
              "      </button>\n",
              "      \n",
              "  <style>\n",
              "    .colab-df-container {\n",
              "      display:flex;\n",
              "      flex-wrap:wrap;\n",
              "      gap: 12px;\n",
              "    }\n",
              "\n",
              "    .colab-df-convert {\n",
              "      background-color: #E8F0FE;\n",
              "      border: none;\n",
              "      border-radius: 50%;\n",
              "      cursor: pointer;\n",
              "      display: none;\n",
              "      fill: #1967D2;\n",
              "      height: 32px;\n",
              "      padding: 0 0 0 0;\n",
              "      width: 32px;\n",
              "    }\n",
              "\n",
              "    .colab-df-convert:hover {\n",
              "      background-color: #E2EBFA;\n",
              "      box-shadow: 0px 1px 2px rgba(60, 64, 67, 0.3), 0px 1px 3px 1px rgba(60, 64, 67, 0.15);\n",
              "      fill: #174EA6;\n",
              "    }\n",
              "\n",
              "    [theme=dark] .colab-df-convert {\n",
              "      background-color: #3B4455;\n",
              "      fill: #D2E3FC;\n",
              "    }\n",
              "\n",
              "    [theme=dark] .colab-df-convert:hover {\n",
              "      background-color: #434B5C;\n",
              "      box-shadow: 0px 1px 3px 1px rgba(0, 0, 0, 0.15);\n",
              "      filter: drop-shadow(0px 1px 2px rgba(0, 0, 0, 0.3));\n",
              "      fill: #FFFFFF;\n",
              "    }\n",
              "  </style>\n",
              "\n",
              "      <script>\n",
              "        const buttonEl =\n",
              "          document.querySelector('#df-71d0c914-bc88-44dc-a14d-77f22111c74e button.colab-df-convert');\n",
              "        buttonEl.style.display =\n",
              "          google.colab.kernel.accessAllowed ? 'block' : 'none';\n",
              "\n",
              "        async function convertToInteractive(key) {\n",
              "          const element = document.querySelector('#df-71d0c914-bc88-44dc-a14d-77f22111c74e');\n",
              "          const dataTable =\n",
              "            await google.colab.kernel.invokeFunction('convertToInteractive',\n",
              "                                                     [key], {});\n",
              "          if (!dataTable) return;\n",
              "\n",
              "          const docLinkHtml = 'Like what you see? Visit the ' +\n",
              "            '<a target=\"_blank\" href=https://colab.research.google.com/notebooks/data_table.ipynb>data table notebook</a>'\n",
              "            + ' to learn more about interactive tables.';\n",
              "          element.innerHTML = '';\n",
              "          dataTable['output_type'] = 'display_data';\n",
              "          await google.colab.output.renderOutput(dataTable, element);\n",
              "          const docLink = document.createElement('div');\n",
              "          docLink.innerHTML = docLinkHtml;\n",
              "          element.appendChild(docLink);\n",
              "        }\n",
              "      </script>\n",
              "    </div>\n",
              "  </div>\n",
              "  "
            ]
          },
          "metadata": {},
          "execution_count": 7
        }
      ]
    },
    {
      "cell_type": "markdown",
      "source": [
        "### Splitting the dataset into train-test split\n"
      ],
      "metadata": {
        "id": "AfCg0hmTNBIF"
      }
    },
    {
      "cell_type": "code",
      "metadata": {
        "id": "ayb0th_og3NF"
      },
      "source": [
        "X = data.loc[:, data.columns != 'revenue']\n",
        "y = data['revenue']\n",
        "X_train, X_test, y_train, y_test = train_test_split(X,y, test_size=0.15)"
      ],
      "execution_count": 8,
      "outputs": []
    },
    {
      "cell_type": "markdown",
      "source": [
        "# Now we shall run different models to see the perfomance of these models on our dataset"
      ],
      "metadata": {
        "id": "JuzX4306NPCc"
      }
    },
    {
      "cell_type": "markdown",
      "source": [
        "## Linear Regression"
      ],
      "metadata": {
        "id": "Y46e2sPWNY22"
      }
    },
    {
      "cell_type": "code",
      "source": [
        "model = LinearRegression()\n",
        "model1=model.fit(X_train , y_train)\n",
        "y_pred=model1.predict(X_test)\n",
        "\n",
        "mean_squared_error(y_test, y_pred,squared=False)"
      ],
      "metadata": {
        "colab": {
          "base_uri": "https://localhost:8080/"
        },
        "id": "uPvpQL6Iyaus",
        "outputId": "5ed21fcf-2747-419b-bd08-c28c6a20b1e0"
      },
      "execution_count": 9,
      "outputs": [
        {
          "output_type": "execute_result",
          "data": {
            "text/plain": [
              "216.99461767189328"
            ]
          },
          "metadata": {},
          "execution_count": 9
        }
      ]
    },
    {
      "cell_type": "markdown",
      "source": [
        "## K-nearest neighbors"
      ],
      "metadata": {
        "id": "LefAHtaVO388"
      }
    },
    {
      "cell_type": "code",
      "source": [
        "models = KNeighborsRegressor()\n",
        "modessss = models.fit(X_train, y_train)\n",
        "y_pred=modessss.predict(X_test)\n",
        "\n",
        "mean_squared_error(y_test, y_pred,squared=False)"
      ],
      "metadata": {
        "colab": {
          "base_uri": "https://localhost:8080/"
        },
        "id": "VZRj6bsoynSe",
        "outputId": "fbf01553-fcf1-417f-c1fb-1f52950bb646"
      },
      "execution_count": 10,
      "outputs": [
        {
          "output_type": "execute_result",
          "data": {
            "text/plain": [
              "518.8906169472699"
            ]
          },
          "metadata": {},
          "execution_count": 10
        }
      ]
    },
    {
      "cell_type": "markdown",
      "source": [
        "## SGDRegressor"
      ],
      "metadata": {
        "id": "yDErjf4BPHVU"
      }
    },
    {
      "cell_type": "code",
      "source": [
        "reg = make_pipeline(StandardScaler(),SGDRegressor(max_iter=1000, tol=1e-3,loss='squared_epsilon_insensitive'))\n",
        "regg=reg.fit(X_train, y_train)\n",
        "y_pred4=regg.predict(X_test)\n",
        "mean_squared_error(y_test, y_pred4,squared=False)"
      ],
      "metadata": {
        "colab": {
          "base_uri": "https://localhost:8080/"
        },
        "id": "ILnbUBr_y17u",
        "outputId": "faf03b45-f3eb-46aa-c83d-a884232b3296"
      },
      "execution_count": 11,
      "outputs": [
        {
          "output_type": "execute_result",
          "data": {
            "text/plain": [
              "219.91889730276262"
            ]
          },
          "metadata": {},
          "execution_count": 11
        }
      ]
    },
    {
      "cell_type": "markdown",
      "source": [
        "#Random Forest"
      ],
      "metadata": {
        "id": "of6R9pv2AFK6"
      }
    },
    {
      "cell_type": "code",
      "source": [
        "rn = RandomForestRegressor(n_estimators=500, max_depth=8, random_state=0)\n",
        "ran = rn.fit(X_train, y_train)\n",
        "preds = ran.predict(X_test)\n",
        "mean_squared_error(y_test, preds,squared=False)"
      ],
      "metadata": {
        "colab": {
          "base_uri": "https://localhost:8080/"
        },
        "id": "CZUetReX1LhK",
        "outputId": "808d0d95-2014-4b4f-a903-8b7389b5cc90"
      },
      "execution_count": 12,
      "outputs": [
        {
          "output_type": "execute_result",
          "data": {
            "text/plain": [
              "169.07013774337113"
            ]
          },
          "metadata": {},
          "execution_count": 12
        }
      ]
    },
    {
      "cell_type": "markdown",
      "source": [
        "# XGBRegressor"
      ],
      "metadata": {
        "id": "I-msFMCjAJoG"
      }
    },
    {
      "cell_type": "code",
      "source": [
        "xg = XGBRegressor(n_estimators=1000, learning_rate=0.05, random_state = 0)\n",
        "xga = xg.fit(X_train, y_train)\n",
        "preds = xga.predict(X_test)\n",
        "mean_squared_error(y_test, preds,squared=False)"
      ],
      "metadata": {
        "colab": {
          "base_uri": "https://localhost:8080/"
        },
        "id": "zGHwftGY1xDo",
        "outputId": "a1a4a188-38a1-48e2-e61f-c599540f6777"
      },
      "execution_count": 13,
      "outputs": [
        {
          "output_type": "stream",
          "name": "stdout",
          "text": [
            "[22:33:07] WARNING: /workspace/src/objective/regression_obj.cu:152: reg:linear is now deprecated in favor of reg:squarederror.\n"
          ]
        },
        {
          "output_type": "execute_result",
          "data": {
            "text/plain": [
              "156.9729434056588"
            ]
          },
          "metadata": {},
          "execution_count": 13
        }
      ]
    },
    {
      "cell_type": "code",
      "source": [
        "xg2 = XGBRegressor(n_estimators=500, learning_rate=0.04, random_state = 0)\n",
        "xgaa = xg2.fit(X_train, y_train)\n",
        "preds = xgaa.predict(X_test)\n",
        "mean_squared_error(y_test, preds,squared=False)"
      ],
      "metadata": {
        "colab": {
          "base_uri": "https://localhost:8080/"
        },
        "id": "ifutYXG030CS",
        "outputId": "8b62e463-54fa-4cef-e9a3-f52e770de279"
      },
      "execution_count": 14,
      "outputs": [
        {
          "output_type": "stream",
          "name": "stdout",
          "text": [
            "[22:33:09] WARNING: /workspace/src/objective/regression_obj.cu:152: reg:linear is now deprecated in favor of reg:squarederror.\n"
          ]
        },
        {
          "output_type": "execute_result",
          "data": {
            "text/plain": [
              "157.822097069083"
            ]
          },
          "metadata": {},
          "execution_count": 14
        }
      ]
    },
    {
      "cell_type": "code",
      "source": [
        "xg3 = XGBRegressor(n_estimators=1500, learning_rate=0.08, random_state = 0)\n",
        "xgaaa = xg3.fit(X_train, y_train)\n",
        "preds = xgaaa.predict(X_test)\n",
        "mean_squared_error(y_test, preds,squared=False)"
      ],
      "metadata": {
        "colab": {
          "base_uri": "https://localhost:8080/"
        },
        "id": "1PvcXbs53_zc",
        "outputId": "fdd2128a-30a5-447b-d428-a9fe027ebf92"
      },
      "execution_count": 15,
      "outputs": [
        {
          "output_type": "stream",
          "name": "stdout",
          "text": [
            "[22:33:10] WARNING: /workspace/src/objective/regression_obj.cu:152: reg:linear is now deprecated in favor of reg:squarederror.\n"
          ]
        },
        {
          "output_type": "execute_result",
          "data": {
            "text/plain": [
              "165.2542143535488"
            ]
          },
          "metadata": {},
          "execution_count": 15
        }
      ]
    },
    {
      "cell_type": "code",
      "source": [
        "xg4 = XGBRegressor(n_estimators=2000, learning_rate=0.1, random_state = 0)\n",
        "xgaaaa = xg4.fit(X_train, y_train)\n",
        "preds = xgaaaa.predict(X_test)\n",
        "mean_squared_error(y_test, preds,squared=False)"
      ],
      "metadata": {
        "colab": {
          "base_uri": "https://localhost:8080/"
        },
        "id": "dzQGowXi4RS1",
        "outputId": "e59bdd6c-9d85-4c82-a411-382e5cf14d30"
      },
      "execution_count": 16,
      "outputs": [
        {
          "output_type": "stream",
          "name": "stdout",
          "text": [
            "[22:33:12] WARNING: /workspace/src/objective/regression_obj.cu:152: reg:linear is now deprecated in favor of reg:squarederror.\n"
          ]
        },
        {
          "output_type": "execute_result",
          "data": {
            "text/plain": [
              "161.20528234232106"
            ]
          },
          "metadata": {},
          "execution_count": 16
        }
      ]
    },
    {
      "cell_type": "markdown",
      "source": [
        "# Multi Layer Perceptron"
      ],
      "metadata": {
        "id": "b5mtkwxKAODJ"
      }
    },
    {
      "cell_type": "code",
      "source": [
        "ren = MLPRegressor(hidden_layer_sizes=(15,),random_state=1, max_iter=2000)\n",
        "renn = ren.fit(X_train, y_train)\n",
        "y_pred5=renn.predict(X_test)\n",
        "mean_squared_error(y_test, y_pred5,squared=False)"
      ],
      "metadata": {
        "colab": {
          "base_uri": "https://localhost:8080/"
        },
        "id": "Dqqn9j0_zCSt",
        "outputId": "04b76474-2f7b-4c8a-ae3b-c0dffa5d4a70"
      },
      "execution_count": 17,
      "outputs": [
        {
          "output_type": "execute_result",
          "data": {
            "text/plain": [
              "179.9825689923396"
            ]
          },
          "metadata": {},
          "execution_count": 17
        }
      ]
    },
    {
      "cell_type": "markdown",
      "source": [
        "# Soft Voting of above models that gave good performance \n",
        "Soft voting not only reduces the error in comparision to above models but also produce a robust model that will wrok well on divere dataset "
      ],
      "metadata": {
        "id": "M5UDGYDbAR7b"
      }
    },
    {
      "cell_type": "code",
      "source": [
        "eclf1 = VotingRegressor(estimators=[('xga',xg),('xgaa',xg2),('xgaaa',xg3),('xg2',xg2),('ran', rn)])\n",
        "eclf11 = eclf1.fit(X_train, y_train)\n",
        "y_pred_final=eclf11.predict(X_test)\n",
        "mean_squared_error(y_test, y_pred_final,squared=False)"
      ],
      "metadata": {
        "colab": {
          "base_uri": "https://localhost:8080/"
        },
        "id": "vvUdOy_2zLDb",
        "outputId": "016b6527-b546-491e-de51-2f2ce21d8241"
      },
      "execution_count": 18,
      "outputs": [
        {
          "output_type": "stream",
          "name": "stdout",
          "text": [
            "[22:33:21] WARNING: /workspace/src/objective/regression_obj.cu:152: reg:linear is now deprecated in favor of reg:squarederror.\n",
            "[22:33:22] WARNING: /workspace/src/objective/regression_obj.cu:152: reg:linear is now deprecated in favor of reg:squarederror.\n",
            "[22:33:23] WARNING: /workspace/src/objective/regression_obj.cu:152: reg:linear is now deprecated in favor of reg:squarederror.\n",
            "[22:33:25] WARNING: /workspace/src/objective/regression_obj.cu:152: reg:linear is now deprecated in favor of reg:squarederror.\n"
          ]
        },
        {
          "output_type": "execute_result",
          "data": {
            "text/plain": [
              "156.13432099569047"
            ]
          },
          "metadata": {},
          "execution_count": 18
        }
      ]
    },
    {
      "cell_type": "code",
      "source": [
        ""
      ],
      "metadata": {
        "id": "OY9YietB4KFX"
      },
      "execution_count": 18,
      "outputs": []
    }
  ]
}